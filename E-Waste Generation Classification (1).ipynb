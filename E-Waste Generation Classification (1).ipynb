{
 "cells": [
  {
   "cell_type": "code",
   "execution_count": 5,
   "id": "c2b88583-0190-42af-b565-c122d4312980",
   "metadata": {},
   "outputs": [],
   "source": [
    "import numpy as np\n",
    "import pandas as pd\n",
    "import matplotlib.pyplot as plt"
   ]
  },
  {
   "cell_type": "code",
   "execution_count": 7,
   "id": "aea5ff71-0b2b-4666-8af3-8b97134bc77b",
   "metadata": {},
   "outputs": [],
   "source": [
    "from tensorflow.keras.preprocessing.image import ImageDataGenerator\n",
    "from tensorflow.keras.applications import VGG16\n",
    "from tensorflow.keras.models import Model\n",
    "from tensorflow.keras.layers import Dense,Flatten\n",
    "from tensorflow.keras.optimizers import Adam\n",
    "import os"
   ]
  },
  {
   "cell_type": "code",
   "execution_count": 8,
   "id": "6bdc8e33-b7fd-43ec-a3e0-1b26121f613a",
   "metadata": {},
   "outputs": [],
   "source": [
    "#dataset upload\n",
    "base_dir = 'C:/Users/HP/OneDrive/Desktop/edunet_internship/modified-dataset'"
   ]
  },
  {
   "cell_type": "code",
   "execution_count": 9,
   "id": "56982186-3359-41ed-b11d-60d93117e54b",
   "metadata": {},
   "outputs": [],
   "source": [
    "#data generators\n",
    "train_datagen = ImageDataGenerator(rescale = 1./255)\n",
    "val_datagen = ImageDataGenerator(rescale = 1./255)"
   ]
  },
  {
   "cell_type": "code",
   "execution_count": 13,
   "id": "a8024d19-3a92-4d43-87cd-134e25c3a30b",
   "metadata": {},
   "outputs": [
    {
     "name": "stdout",
     "output_type": "stream",
     "text": [
      "Found 2400 images belonging to 10 classes.\n",
      "Found 300 images belonging to 10 classes.\n"
     ]
    }
   ],
   "source": [
    "train_generator = train_datagen.flow_from_directory(os.path.join(base_dir,'train'), target_size=(224,224),batch_size= 32, class_mode= 'categorical')\n",
    "val_generator = val_datagen.flow_from_directory(os.path.join(base_dir,'val'), target_size=(224,224),batch_size= 32, class_mode= 'categorical')"
   ]
  },
  {
   "cell_type": "code",
   "execution_count": 14,
   "id": "e305508b-28bc-4be7-81b3-90f31bfefd57",
   "metadata": {},
   "outputs": [
    {
     "name": "stderr",
     "output_type": "stream",
     "text": [
      "C:\\Users\\HP\\anaconda3\\envs\\tf_env\\lib\\site-packages\\keras\\src\\trainers\\data_adapters\\py_dataset_adapter.py:121: UserWarning: Your `PyDataset` class should call `super().__init__(**kwargs)` in its constructor. `**kwargs` can include `workers`, `use_multiprocessing`, `max_queue_size`. Do not pass these arguments to `fit()`, as they will be ignored.\n",
      "  self._warn_if_super_not_called()\n"
     ]
    },
    {
     "name": "stdout",
     "output_type": "stream",
     "text": [
      "Epoch 1/10\n",
      "\u001b[1m75/75\u001b[0m \u001b[32m━━━━━━━━━━━━━━━━━━━━\u001b[0m\u001b[37m\u001b[0m \u001b[1m552s\u001b[0m 7s/step - accuracy: 0.5011 - loss: 1.5599 - val_accuracy: 0.8433 - val_loss: 0.5343\n",
      "Epoch 2/10\n",
      "\u001b[1m75/75\u001b[0m \u001b[32m━━━━━━━━━━━━━━━━━━━━\u001b[0m\u001b[37m\u001b[0m \u001b[1m548s\u001b[0m 7s/step - accuracy: 0.8974 - loss: 0.3997 - val_accuracy: 0.8800 - val_loss: 0.3931\n",
      "Epoch 3/10\n",
      "\u001b[1m75/75\u001b[0m \u001b[32m━━━━━━━━━━━━━━━━━━━━\u001b[0m\u001b[37m\u001b[0m \u001b[1m543s\u001b[0m 7s/step - accuracy: 0.9577 - loss: 0.2247 - val_accuracy: 0.8833 - val_loss: 0.3589\n",
      "Epoch 4/10\n",
      "\u001b[1m75/75\u001b[0m \u001b[32m━━━━━━━━━━━━━━━━━━━━\u001b[0m\u001b[37m\u001b[0m \u001b[1m618s\u001b[0m 8s/step - accuracy: 0.9858 - loss: 0.1415 - val_accuracy: 0.8900 - val_loss: 0.3252\n",
      "Epoch 5/10\n",
      "\u001b[1m75/75\u001b[0m \u001b[32m━━━━━━━━━━━━━━━━━━━━\u001b[0m\u001b[37m\u001b[0m \u001b[1m646s\u001b[0m 9s/step - accuracy: 0.9940 - loss: 0.1001 - val_accuracy: 0.9033 - val_loss: 0.3011\n",
      "Epoch 6/10\n",
      "\u001b[1m75/75\u001b[0m \u001b[32m━━━━━━━━━━━━━━━━━━━━\u001b[0m\u001b[37m\u001b[0m \u001b[1m628s\u001b[0m 8s/step - accuracy: 0.9978 - loss: 0.0678 - val_accuracy: 0.9000 - val_loss: 0.2971\n",
      "Epoch 7/10\n",
      "\u001b[1m75/75\u001b[0m \u001b[32m━━━━━━━━━━━━━━━━━━━━\u001b[0m\u001b[37m\u001b[0m \u001b[1m1841s\u001b[0m 25s/step - accuracy: 0.9997 - loss: 0.0558 - val_accuracy: 0.9133 - val_loss: 0.2764\n",
      "Epoch 8/10\n",
      "\u001b[1m75/75\u001b[0m \u001b[32m━━━━━━━━━━━━━━━━━━━━\u001b[0m\u001b[37m\u001b[0m \u001b[1m611s\u001b[0m 8s/step - accuracy: 0.9989 - loss: 0.0405 - val_accuracy: 0.8800 - val_loss: 0.3167\n",
      "Epoch 9/10\n",
      "\u001b[1m75/75\u001b[0m \u001b[32m━━━━━━━━━━━━━━━━━━━━\u001b[0m\u001b[37m\u001b[0m \u001b[1m603s\u001b[0m 8s/step - accuracy: 0.9998 - loss: 0.0313 - val_accuracy: 0.9067 - val_loss: 0.2784\n",
      "Epoch 10/10\n",
      "\u001b[1m75/75\u001b[0m \u001b[32m━━━━━━━━━━━━━━━━━━━━\u001b[0m\u001b[37m\u001b[0m \u001b[1m1438s\u001b[0m 19s/step - accuracy: 1.0000 - loss: 0.0243 - val_accuracy: 0.9067 - val_loss: 0.2734\n"
     ]
    },
    {
     "data": {
      "text/plain": [
       "<keras.src.callbacks.history.History at 0x21629b023b0>"
      ]
     },
     "execution_count": 14,
     "metadata": {},
     "output_type": "execute_result"
    }
   ],
   "source": [
    "#Load base model without top layers\n",
    "base_model = VGG16(weights='imagenet',include_top= False, input_shape=(224,224,3))\n",
    "#Freeze base layers\n",
    "for layer in base_model.layers:\n",
    "    layer.trainable = False\n",
    "#added custom classification\n",
    "x = Flatten()(base_model.output)\n",
    "x = Dense(128,activation = 'relu')(x)\n",
    "output= Dense(train_generator.num_classes, activation = 'softmax')(x)\n",
    "model = Model(inputs = base_model.input,outputs= output)\n",
    "#compile model\n",
    "model.compile(optimizer= Adam(learning_rate=0.0001),loss= 'categorical_crossentropy',metrics=['accuracy'])\n",
    "#train model\n",
    "model.fit(train_generator,validation_data= val_generator,epochs=10)"
   ]
  }
 ],
 "metadata": {
  "kernelspec": {
   "display_name": "Python (tf_env)",
   "language": "python",
   "name": "tf_env"
  },
  "language_info": {
   "codemirror_mode": {
    "name": "ipython",
    "version": 3
   },
   "file_extension": ".py",
   "mimetype": "text/x-python",
   "name": "python",
   "nbconvert_exporter": "python",
   "pygments_lexer": "ipython3",
   "version": "3.10.18"
  }
 },
 "nbformat": 4,
 "nbformat_minor": 5
}
